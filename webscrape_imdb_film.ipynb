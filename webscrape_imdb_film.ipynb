{
  "nbformat": 4,
  "nbformat_minor": 0,
  "metadata": {
    "colab": {
      "provenance": [],
      "authorship_tag": "ABX9TyPt2uO3JvysM0i4M/Ru+9+i",
      "include_colab_link": true
    },
    "kernelspec": {
      "name": "python3",
      "display_name": "Python 3"
    },
    "language_info": {
      "name": "python"
    }
  },
  "cells": [
    {
      "cell_type": "markdown",
      "metadata": {
        "id": "view-in-github",
        "colab_type": "text"
      },
      "source": [
        "<a href=\"https://colab.research.google.com/github/SalimZ04/webscrape/blob/main/webscrape_imdb_film.ipynb\" target=\"_parent\"><img src=\"https://colab.research.google.com/assets/colab-badge.svg\" alt=\"Open In Colab\"/></a>"
      ]
    },
    {
      "cell_type": "code",
      "execution_count": null,
      "metadata": {
        "colab": {
          "base_uri": "https://localhost:8080/"
        },
        "id": "x7rAiIhiTs_G",
        "outputId": "17c70686-8ba8-4c7f-ac37-d082441cd858"
      },
      "outputs": [
        {
          "output_type": "stream",
          "name": "stdout",
          "text": [
            "Requirement already satisfied: lxml in /usr/local/lib/python3.10/dist-packages (4.9.4)\n",
            "Requirement already satisfied: requests in /usr/local/lib/python3.10/dist-packages (2.31.0)\n",
            "Requirement already satisfied: charset-normalizer<4,>=2 in /usr/local/lib/python3.10/dist-packages (from requests) (3.3.2)\n",
            "Requirement already satisfied: idna<4,>=2.5 in /usr/local/lib/python3.10/dist-packages (from requests) (3.6)\n",
            "Requirement already satisfied: urllib3<3,>=1.21.1 in /usr/local/lib/python3.10/dist-packages (from requests) (2.0.7)\n",
            "Requirement already satisfied: certifi>=2017.4.17 in /usr/local/lib/python3.10/dist-packages (from requests) (2023.11.17)\n",
            "Requirement already satisfied: beautifulsoup4 in /usr/local/lib/python3.10/dist-packages (4.11.2)\n",
            "Requirement already satisfied: soupsieve>1.2 in /usr/local/lib/python3.10/dist-packages (from beautifulsoup4) (2.5)\n"
          ]
        }
      ],
      "source": [
        "!pip install lxml\n",
        "!pip install requests\n",
        "!pip install beautifulsoup4"
      ]
    },
    {
      "cell_type": "code",
      "source": [
        "import requests\n",
        "\n",
        "from bs4 import BeautifulSoup\n",
        "import pandas as pd\n",
        "import time\n"
      ],
      "metadata": {
        "id": "cwhTHEDPUQrH"
      },
      "execution_count": null,
      "outputs": []
    },
    {
      "cell_type": "code",
      "source": [
        "urls = 'https://www.imdb.com/chart/top'\n",
        "response = requests.get(urls)\n",
        "\n",
        "# Parse the HTML code using BeautifulSoup\n",
        "soup = BeautifulSoup(response.content, 'html.parser')\n",
        "\n",
        "movies = []\n",
        "for row in soup.select('tbody.lister-list tr'):\n",
        " title = row.find('td', class_='titleColumn').find('a').get_text()\n",
        " year = row.find('td', class_='titleColumn').find('span', class_='secondaryInfo').get_text()[1:-1]\n",
        " rating = row.find('td', class_='ratingColumn imdbRating').find('strong').get_text()\n",
        " movies.append([title, year, rating])\n",
        "\n",
        "df = pd.DataFrame(movies, columns=['Title', 'Year', 'Rating'])\n",
        "\n",
        "# Add a delay between requests to avoid overwhelming the website with requests\n",
        "time.sleep(1)\n",
        "\n",
        "df.to_csv('top-rated-movies.csv', index=False)"
      ],
      "metadata": {
        "id": "QstkkBWUV_JW"
      },
      "execution_count": null,
      "outputs": []
    }
  ]
}